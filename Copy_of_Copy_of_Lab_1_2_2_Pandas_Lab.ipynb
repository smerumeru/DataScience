{
  "nbformat": 4,
  "nbformat_minor": 0,
  "metadata": {
    "colab": {
      "name": "Copy of Copy of Lab - 1.2.2 Pandas Lab.ipynb",
      "provenance": [],
      "collapsed_sections": [],
      "include_colab_link": true
    },
    "kernelspec": {
      "display_name": "Python 3",
      "language": "python",
      "name": "python3"
    }
  },
  "cells": [
    {
      "cell_type": "markdown",
      "metadata": {
        "id": "view-in-github",
        "colab_type": "text"
      },
      "source": [
        "<a href=\"https://colab.research.google.com/github/smerumeru/DataScience/blob/master/Copy_of_Copy_of_Lab_1_2_2_Pandas_Lab.ipynb\" target=\"_parent\"><img src=\"https://colab.research.google.com/assets/colab-badge.svg\" alt=\"Open In Colab\"/></a>"
      ]
    },
    {
      "cell_type": "markdown",
      "metadata": {
        "id": "ZvGuEYgDsohG",
        "colab_type": "text"
      },
      "source": [
        "<div>\n",
        "<img src=https://www.institutedata.com/wp-content/uploads/2019/10/iod_h_tp_primary_c.svg width=\"300\">\n",
        "</div>"
      ]
    },
    {
      "cell_type": "code",
      "metadata": {
        "id": "k1hOvGzedsoO",
        "colab_type": "code",
        "colab": {}
      },
      "source": [
        "import numpy as np\n",
        "import pandas as pd\n",
        "import matplotlib.pyplot as plt\n",
        "from scipy import stats\n",
        "# get matplot to show charts inline\n",
        "%matplotlib inline"
      ],
      "execution_count": 0,
      "outputs": []
    },
    {
      "cell_type": "markdown",
      "metadata": {
        "id": "idwTm8QinAE9",
        "colab_type": "text"
      },
      "source": [
        "chrome://settings/content/cookies\n",
        "\n",
        "NOTE: Make sure third party cookies are not blocked."
      ]
    },
    {
      "cell_type": "code",
      "metadata": {
        "id": "cPmJnMzgdsoR",
        "colab_type": "code",
        "outputId": "190a86d7-2a71-4fc1-a78b-6183aaf6957f",
        "colab": {
          "resources": {
            "http://localhost:8080/nbextensions/google.colab/files.js": {
              "data": "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",
              "ok": true,
              "headers": [
                [
                  "content-type",
                  "application/javascript"
                ]
              ],
              "status": 200,
              "status_text": ""
            }
          },
          "base_uri": "https://localhost:8080/",
          "height": 75
        }
      },
      "source": [
        "from google.colab import files\n",
        "uploaded = files.upload()\n",
        "import io\n",
        "df = pd.read_csv(io.BytesIO(uploaded[\"Census Figures from August 2002 to August 2019 - Sheet1.csv\"]))\n"
      ],
      "execution_count": 6,
      "outputs": [
        {
          "output_type": "display_data",
          "data": {
            "text/html": [
              "\n",
              "     <input type=\"file\" id=\"files-f6de3d54-cca4-41dc-b6d1-276d1d0dfc3d\" name=\"files[]\" multiple disabled />\n",
              "     <output id=\"result-f6de3d54-cca4-41dc-b6d1-276d1d0dfc3d\">\n",
              "      Upload widget is only available when the cell has been executed in the\n",
              "      current browser session. Please rerun this cell to enable.\n",
              "      </output>\n",
              "      <script src=\"/nbextensions/google.colab/files.js\"></script> "
            ],
            "text/plain": [
              "<IPython.core.display.HTML object>"
            ]
          },
          "metadata": {
            "tags": []
          }
        },
        {
          "output_type": "stream",
          "text": [
            "Saving Census Figures from August 2002 to August 2019 - Sheet1.csv to Census Figures from August 2002 to August 2019 - Sheet1 (3).csv\n"
          ],
          "name": "stdout"
        }
      ]
    },
    {
      "cell_type": "code",
      "metadata": {
        "id": "0g0YHDJ1dsoT",
        "colab_type": "code",
        "outputId": "9fe3e151-01f9-40c8-f21e-b2efd8b83367",
        "colab": {
          "base_uri": "https://localhost:8080/",
          "height": 378
        }
      },
      "source": [
        "df.head()"
      ],
      "execution_count": 9,
      "outputs": [
        {
          "output_type": "execute_result",
          "data": {
            "text/html": [
              "<div>\n",
              "<style scoped>\n",
              "    .dataframe tbody tr th:only-of-type {\n",
              "        vertical-align: middle;\n",
              "    }\n",
              "\n",
              "    .dataframe tbody tr th {\n",
              "        vertical-align: top;\n",
              "    }\n",
              "\n",
              "    .dataframe thead th {\n",
              "        text-align: right;\n",
              "    }\n",
              "</style>\n",
              "<table border=\"1\" class=\"dataframe\">\n",
              "  <thead>\n",
              "    <tr style=\"text-align: right;\">\n",
              "      <th></th>\n",
              "      <th></th>\n",
              "      <th>Unnamed: 1</th>\n",
              "      <th>Unnamed: 2</th>\n",
              "      <th>Unnamed: 3</th>\n",
              "      <th>Unnamed: 4</th>\n",
              "      <th>Unnamed: 5</th>\n",
              "      <th>Unnamed: 6</th>\n",
              "      <th>Unnamed: 7</th>\n",
              "      <th>Unnamed: 8</th>\n",
              "      <th>Unnamed: 9</th>\n",
              "      <th>Unnamed: 10</th>\n",
              "      <th>Unnamed: 11</th>\n",
              "      <th>Unnamed: 12</th>\n",
              "      <th>Unnamed: 13</th>\n",
              "      <th>Unnamed: 14</th>\n",
              "      <th>Unnamed: 15</th>\n",
              "      <th>Unnamed: 16</th>\n",
              "      <th>Unnamed: 17</th>\n",
              "      <th>Unnamed: 18</th>\n",
              "      <th>Unnamed: 19</th>\n",
              "      <th>Unnamed: 20</th>\n",
              "      <th>Unnamed: 21</th>\n",
              "      <th>Unnamed: 22</th>\n",
              "      <th>Unnamed: 23</th>\n",
              "      <th>Unnamed: 24</th>\n",
              "      <th>Unnamed: 25</th>\n",
              "      <th>Unnamed: 26</th>\n",
              "      <th>Unnamed: 27</th>\n",
              "      <th>Unnamed: 28</th>\n",
              "      <th>Unnamed: 29</th>\n",
              "      <th>Unnamed: 30</th>\n",
              "      <th>Unnamed: 31</th>\n",
              "      <th>Unnamed: 32</th>\n",
              "      <th>Unnamed: 33</th>\n",
              "      <th>#REF!</th>\n",
              "      <th>Unnamed: 35</th>\n",
              "      <th>Unnamed: 36</th>\n",
              "    </tr>\n",
              "  </thead>\n",
              "  <tbody>\n",
              "    <tr>\n",
              "      <th>0</th>\n",
              "      <td>NaN</td>\n",
              "      <td>NaN</td>\n",
              "      <td>NaN</td>\n",
              "      <td>NaN</td>\n",
              "      <td>NaN</td>\n",
              "      <td>NaN</td>\n",
              "      <td>NaN</td>\n",
              "      <td>NaN</td>\n",
              "      <td>NaN</td>\n",
              "      <td>NaN</td>\n",
              "      <td>NaN</td>\n",
              "      <td>NaN</td>\n",
              "      <td>NaN</td>\n",
              "      <td>NaN</td>\n",
              "      <td>NaN</td>\n",
              "      <td>NaN</td>\n",
              "      <td>NaN</td>\n",
              "      <td>NaN</td>\n",
              "      <td>NaN</td>\n",
              "      <td>NaN</td>\n",
              "      <td>NaN</td>\n",
              "      <td>NaN</td>\n",
              "      <td>NaN</td>\n",
              "      <td>NaN</td>\n",
              "      <td>NaN</td>\n",
              "      <td>NaN</td>\n",
              "      <td>NaN</td>\n",
              "      <td>NaN</td>\n",
              "      <td>NaN</td>\n",
              "      <td>NaN</td>\n",
              "      <td>NaN</td>\n",
              "      <td>NaN</td>\n",
              "      <td>NaN</td>\n",
              "      <td>NaN</td>\n",
              "      <td>NaN</td>\n",
              "      <td>NaN</td>\n",
              "      <td>NaN</td>\n",
              "    </tr>\n",
              "    <tr>\n",
              "      <th>1</th>\n",
              "      <td>NaN</td>\n",
              "      <td>NaN</td>\n",
              "      <td>NaN</td>\n",
              "      <td>Aug-02</td>\n",
              "      <td>Feb-03</td>\n",
              "      <td>Aug-03</td>\n",
              "      <td>Feb-04</td>\n",
              "      <td>Aug-04</td>\n",
              "      <td>Feb-06</td>\n",
              "      <td>Aug-06</td>\n",
              "      <td>Feb-07</td>\n",
              "      <td>Aug-07</td>\n",
              "      <td>Feb-08</td>\n",
              "      <td>Aug-08</td>\n",
              "      <td>Feb-09</td>\n",
              "      <td>Aug-09</td>\n",
              "      <td>Feb-10</td>\n",
              "      <td>Aug-10</td>\n",
              "      <td>Feb-11</td>\n",
              "      <td>Aug-11</td>\n",
              "      <td>Feb-12</td>\n",
              "      <td>Aug-12</td>\n",
              "      <td>Feb-13</td>\n",
              "      <td>Aug-13</td>\n",
              "      <td>Feb-14</td>\n",
              "      <td>Aug-14</td>\n",
              "      <td>Feb-15</td>\n",
              "      <td>Aug-15</td>\n",
              "      <td>Feb-16</td>\n",
              "      <td>Aug-16</td>\n",
              "      <td>Feb-17</td>\n",
              "      <td>Aug-17</td>\n",
              "      <td>Feb-18</td>\n",
              "      <td>Aug-18</td>\n",
              "      <td>Feb-19</td>\n",
              "      <td>Aug-19</td>\n",
              "      <td>Feb-20</td>\n",
              "    </tr>\n",
              "    <tr>\n",
              "      <th>2</th>\n",
              "      <td>TOTALS FOR CEO SYDNEY</td>\n",
              "      <td>NaN</td>\n",
              "      <td>NaN</td>\n",
              "      <td>61892</td>\n",
              "      <td>62433</td>\n",
              "      <td>61904</td>\n",
              "      <td>62706</td>\n",
              "      <td>62299</td>\n",
              "      <td>63023</td>\n",
              "      <td>62612</td>\n",
              "      <td>63131</td>\n",
              "      <td>62813</td>\n",
              "      <td>63032</td>\n",
              "      <td>62614</td>\n",
              "      <td>63515</td>\n",
              "      <td>63227</td>\n",
              "      <td>64180</td>\n",
              "      <td>63946</td>\n",
              "      <td>65131</td>\n",
              "      <td>64866</td>\n",
              "      <td>66159</td>\n",
              "      <td>65,953</td>\n",
              "      <td>68,741</td>\n",
              "      <td>68,513</td>\n",
              "      <td>69,473</td>\n",
              "      <td>69,182</td>\n",
              "      <td>69,971</td>\n",
              "      <td>69,614</td>\n",
              "      <td>70,236</td>\n",
              "      <td>69,835</td>\n",
              "      <td>70,324</td>\n",
              "      <td>70,112</td>\n",
              "      <td>70,234</td>\n",
              "      <td>69,869</td>\n",
              "      <td>70,128</td>\n",
              "      <td>69,975</td>\n",
              "      <td>70,944</td>\n",
              "    </tr>\n",
              "    <tr>\n",
              "      <th>3</th>\n",
              "      <td>ER – PRIMARY</td>\n",
              "      <td>NaN</td>\n",
              "      <td>NaN</td>\n",
              "      <td>9913</td>\n",
              "      <td>9881</td>\n",
              "      <td>9811</td>\n",
              "      <td>9828</td>\n",
              "      <td>9786</td>\n",
              "      <td>9964</td>\n",
              "      <td>9928</td>\n",
              "      <td>10091</td>\n",
              "      <td>10072</td>\n",
              "      <td>10,282</td>\n",
              "      <td>10,281</td>\n",
              "      <td>10,579</td>\n",
              "      <td>10,548</td>\n",
              "      <td>10,866</td>\n",
              "      <td>10,845</td>\n",
              "      <td>11,032</td>\n",
              "      <td>11,027</td>\n",
              "      <td>11,356</td>\n",
              "      <td>11,358</td>\n",
              "      <td>11,622</td>\n",
              "      <td>11,620</td>\n",
              "      <td>11,879</td>\n",
              "      <td>11,867</td>\n",
              "      <td>12,041</td>\n",
              "      <td>11,991</td>\n",
              "      <td>12,114</td>\n",
              "      <td>12,072</td>\n",
              "      <td>12,133</td>\n",
              "      <td>12,083</td>\n",
              "      <td>12,035</td>\n",
              "      <td>11,963</td>\n",
              "      <td>11,941</td>\n",
              "      <td>11,888</td>\n",
              "      <td>11,844</td>\n",
              "    </tr>\n",
              "    <tr>\n",
              "      <th>4</th>\n",
              "      <td>ARNCLIFFE</td>\n",
              "      <td>St Francis Xavier's Primary School</td>\n",
              "      <td>NaN</td>\n",
              "      <td>147</td>\n",
              "      <td>151</td>\n",
              "      <td>152</td>\n",
              "      <td>147</td>\n",
              "      <td>147</td>\n",
              "      <td>143</td>\n",
              "      <td>135</td>\n",
              "      <td>129</td>\n",
              "      <td>129</td>\n",
              "      <td>131</td>\n",
              "      <td>130</td>\n",
              "      <td>127</td>\n",
              "      <td>125</td>\n",
              "      <td>140</td>\n",
              "      <td>138</td>\n",
              "      <td>152</td>\n",
              "      <td>151</td>\n",
              "      <td>147</td>\n",
              "      <td>150</td>\n",
              "      <td>151</td>\n",
              "      <td>155</td>\n",
              "      <td>156</td>\n",
              "      <td>154</td>\n",
              "      <td>161</td>\n",
              "      <td>160</td>\n",
              "      <td>156</td>\n",
              "      <td>159</td>\n",
              "      <td>176</td>\n",
              "      <td>183</td>\n",
              "      <td>185</td>\n",
              "      <td>183</td>\n",
              "      <td>187</td>\n",
              "      <td>190</td>\n",
              "      <td>209</td>\n",
              "    </tr>\n",
              "  </tbody>\n",
              "</table>\n",
              "</div>"
            ],
            "text/plain": [
              "                          ... Unnamed: 36\n",
              "0                    NaN  ...         NaN\n",
              "1                    NaN  ...      Feb-20\n",
              "2  TOTALS FOR CEO SYDNEY  ...      70,944\n",
              "3           ER – PRIMARY  ...      11,844\n",
              "4              ARNCLIFFE  ...         209\n",
              "\n",
              "[5 rows x 37 columns]"
            ]
          },
          "metadata": {
            "tags": []
          },
          "execution_count": 9
        }
      ]
    },
    {
      "cell_type": "code",
      "metadata": {
        "id": "NGFbwlODdsoX",
        "colab_type": "code",
        "outputId": "ef5392cc-02af-410a-ea1f-d909117a8fc8",
        "colab": {
          "base_uri": "https://localhost:8080/",
          "height": 378
        }
      },
      "source": [
        "df.tail()"
      ],
      "execution_count": 10,
      "outputs": [
        {
          "output_type": "execute_result",
          "data": {
            "text/html": [
              "<div>\n",
              "<style scoped>\n",
              "    .dataframe tbody tr th:only-of-type {\n",
              "        vertical-align: middle;\n",
              "    }\n",
              "\n",
              "    .dataframe tbody tr th {\n",
              "        vertical-align: top;\n",
              "    }\n",
              "\n",
              "    .dataframe thead th {\n",
              "        text-align: right;\n",
              "    }\n",
              "</style>\n",
              "<table border=\"1\" class=\"dataframe\">\n",
              "  <thead>\n",
              "    <tr style=\"text-align: right;\">\n",
              "      <th></th>\n",
              "      <th></th>\n",
              "      <th>Unnamed: 1</th>\n",
              "      <th>Unnamed: 2</th>\n",
              "      <th>Unnamed: 3</th>\n",
              "      <th>Unnamed: 4</th>\n",
              "      <th>Unnamed: 5</th>\n",
              "      <th>Unnamed: 6</th>\n",
              "      <th>Unnamed: 7</th>\n",
              "      <th>Unnamed: 8</th>\n",
              "      <th>Unnamed: 9</th>\n",
              "      <th>Unnamed: 10</th>\n",
              "      <th>Unnamed: 11</th>\n",
              "      <th>Unnamed: 12</th>\n",
              "      <th>Unnamed: 13</th>\n",
              "      <th>Unnamed: 14</th>\n",
              "      <th>Unnamed: 15</th>\n",
              "      <th>Unnamed: 16</th>\n",
              "      <th>Unnamed: 17</th>\n",
              "      <th>Unnamed: 18</th>\n",
              "      <th>Unnamed: 19</th>\n",
              "      <th>Unnamed: 20</th>\n",
              "      <th>Unnamed: 21</th>\n",
              "      <th>Unnamed: 22</th>\n",
              "      <th>Unnamed: 23</th>\n",
              "      <th>Unnamed: 24</th>\n",
              "      <th>Unnamed: 25</th>\n",
              "      <th>Unnamed: 26</th>\n",
              "      <th>Unnamed: 27</th>\n",
              "      <th>Unnamed: 28</th>\n",
              "      <th>Unnamed: 29</th>\n",
              "      <th>Unnamed: 30</th>\n",
              "      <th>Unnamed: 31</th>\n",
              "      <th>Unnamed: 32</th>\n",
              "      <th>Unnamed: 33</th>\n",
              "      <th>#REF!</th>\n",
              "      <th>Unnamed: 35</th>\n",
              "      <th>Unnamed: 36</th>\n",
              "    </tr>\n",
              "  </thead>\n",
              "  <tbody>\n",
              "    <tr>\n",
              "      <th>170</th>\n",
              "      <td>NaN</td>\n",
              "      <td>NaN</td>\n",
              "      <td>NaN</td>\n",
              "      <td>NaN</td>\n",
              "      <td>NaN</td>\n",
              "      <td>NaN</td>\n",
              "      <td>NaN</td>\n",
              "      <td>NaN</td>\n",
              "      <td>Aug-09</td>\n",
              "      <td>NaN</td>\n",
              "      <td>Change from Aug-08</td>\n",
              "      <td>NaN</td>\n",
              "      <td>Aug-09</td>\n",
              "      <td>NaN</td>\n",
              "      <td>Change from Aug-08</td>\n",
              "      <td>NaN</td>\n",
              "      <td>Aug-09</td>\n",
              "      <td>NaN</td>\n",
              "      <td>NaN</td>\n",
              "      <td>NaN</td>\n",
              "      <td>NaN</td>\n",
              "      <td>NaN</td>\n",
              "      <td>NaN</td>\n",
              "      <td>NaN</td>\n",
              "      <td>NaN</td>\n",
              "      <td>NaN</td>\n",
              "      <td>NaN</td>\n",
              "      <td>NaN</td>\n",
              "      <td>NaN</td>\n",
              "      <td>NaN</td>\n",
              "      <td>NaN</td>\n",
              "      <td>NaN</td>\n",
              "      <td>NaN</td>\n",
              "      <td>NaN</td>\n",
              "      <td>NaN</td>\n",
              "      <td>NaN</td>\n",
              "      <td>NaN</td>\n",
              "    </tr>\n",
              "    <tr>\n",
              "      <th>171</th>\n",
              "      <td>NaN</td>\n",
              "      <td>NaN</td>\n",
              "      <td>EASTERN REGION</td>\n",
              "      <td>NaN</td>\n",
              "      <td>NaN</td>\n",
              "      <td>NaN</td>\n",
              "      <td>NaN</td>\n",
              "      <td>NaN</td>\n",
              "      <td>18,114</td>\n",
              "      <td>17,760</td>\n",
              "      <td>354</td>\n",
              "      <td>NaN</td>\n",
              "      <td>10,548</td>\n",
              "      <td>10,281</td>\n",
              "      <td>267</td>\n",
              "      <td>NaN</td>\n",
              "      <td>7,566</td>\n",
              "      <td>NaN</td>\n",
              "      <td>NaN</td>\n",
              "      <td>NaN</td>\n",
              "      <td>NaN</td>\n",
              "      <td>7578</td>\n",
              "      <td>7479</td>\n",
              "      <td>7479</td>\n",
              "      <td>7479</td>\n",
              "      <td>7479</td>\n",
              "      <td>7479</td>\n",
              "      <td>7479</td>\n",
              "      <td>7,644</td>\n",
              "      <td>7,644</td>\n",
              "      <td>7,644</td>\n",
              "      <td>7,644</td>\n",
              "      <td>7,644</td>\n",
              "      <td>7,566</td>\n",
              "      <td>7,821</td>\n",
              "      <td>NaN</td>\n",
              "      <td>NaN</td>\n",
              "    </tr>\n",
              "    <tr>\n",
              "      <th>172</th>\n",
              "      <td>NaN</td>\n",
              "      <td>NaN</td>\n",
              "      <td>INNER WEST REGION</td>\n",
              "      <td>NaN</td>\n",
              "      <td>NaN</td>\n",
              "      <td>NaN</td>\n",
              "      <td>NaN</td>\n",
              "      <td>NaN</td>\n",
              "      <td>18,305</td>\n",
              "      <td>18,399</td>\n",
              "      <td>-94</td>\n",
              "      <td>NaN</td>\n",
              "      <td>11,070</td>\n",
              "      <td>11,069</td>\n",
              "      <td>1</td>\n",
              "      <td>NaN</td>\n",
              "      <td>7,235</td>\n",
              "      <td>NaN</td>\n",
              "      <td>NaN</td>\n",
              "      <td>NaN</td>\n",
              "      <td>NaN</td>\n",
              "      <td>7422</td>\n",
              "      <td>7330</td>\n",
              "      <td>7330</td>\n",
              "      <td>7330</td>\n",
              "      <td>7330</td>\n",
              "      <td>7330</td>\n",
              "      <td>7330</td>\n",
              "      <td>7,271</td>\n",
              "      <td>7,271</td>\n",
              "      <td>7,271</td>\n",
              "      <td>7,271</td>\n",
              "      <td>7,271</td>\n",
              "      <td>7,235</td>\n",
              "      <td>7,319</td>\n",
              "      <td>NaN</td>\n",
              "      <td>NaN</td>\n",
              "    </tr>\n",
              "    <tr>\n",
              "      <th>173</th>\n",
              "      <td>NaN</td>\n",
              "      <td>NaN</td>\n",
              "      <td>SOUTHERN REGION</td>\n",
              "      <td>NaN</td>\n",
              "      <td>NaN</td>\n",
              "      <td>NaN</td>\n",
              "      <td>NaN</td>\n",
              "      <td>NaN</td>\n",
              "      <td>26,808</td>\n",
              "      <td>26,455</td>\n",
              "      <td>353</td>\n",
              "      <td>NaN</td>\n",
              "      <td>15,135</td>\n",
              "      <td>14,984</td>\n",
              "      <td>151</td>\n",
              "      <td>NaN</td>\n",
              "      <td>11,673</td>\n",
              "      <td>NaN</td>\n",
              "      <td>NaN</td>\n",
              "      <td>NaN</td>\n",
              "      <td>NaN</td>\n",
              "      <td>11587</td>\n",
              "      <td>11471</td>\n",
              "      <td>11471</td>\n",
              "      <td>11471</td>\n",
              "      <td>11471</td>\n",
              "      <td>11471</td>\n",
              "      <td>11471</td>\n",
              "      <td>11,747</td>\n",
              "      <td>11,747</td>\n",
              "      <td>11,747</td>\n",
              "      <td>11,747</td>\n",
              "      <td>11,747</td>\n",
              "      <td>11,673</td>\n",
              "      <td>11,937</td>\n",
              "      <td>NaN</td>\n",
              "      <td>NaN</td>\n",
              "    </tr>\n",
              "    <tr>\n",
              "      <th>174</th>\n",
              "      <td>NaN</td>\n",
              "      <td>NaN</td>\n",
              "      <td>TOTAL SYDNEY CEO</td>\n",
              "      <td>NaN</td>\n",
              "      <td>NaN</td>\n",
              "      <td>NaN</td>\n",
              "      <td>NaN</td>\n",
              "      <td>NaN</td>\n",
              "      <td>63,227</td>\n",
              "      <td>62,614</td>\n",
              "      <td>613</td>\n",
              "      <td>NaN</td>\n",
              "      <td>36,753</td>\n",
              "      <td>36,334</td>\n",
              "      <td>419</td>\n",
              "      <td>NaN</td>\n",
              "      <td>26,474</td>\n",
              "      <td>NaN</td>\n",
              "      <td>NaN</td>\n",
              "      <td>NaN</td>\n",
              "      <td>NaN</td>\n",
              "      <td>26587</td>\n",
              "      <td>26280</td>\n",
              "      <td>26280</td>\n",
              "      <td>26280</td>\n",
              "      <td>26280</td>\n",
              "      <td>26280</td>\n",
              "      <td>26280</td>\n",
              "      <td>26,662</td>\n",
              "      <td>26,662</td>\n",
              "      <td>26,662</td>\n",
              "      <td>26,662</td>\n",
              "      <td>26,662</td>\n",
              "      <td>26,474</td>\n",
              "      <td>27,077</td>\n",
              "      <td>NaN</td>\n",
              "      <td>NaN</td>\n",
              "    </tr>\n",
              "  </tbody>\n",
              "</table>\n",
              "</div>"
            ],
            "text/plain": [
              "         Unnamed: 1         Unnamed: 2  ...   #REF! Unnamed: 35 Unnamed: 36\n",
              "170  NaN        NaN                NaN  ...     NaN         NaN         NaN\n",
              "171  NaN        NaN     EASTERN REGION  ...   7,821         NaN         NaN\n",
              "172  NaN        NaN  INNER WEST REGION  ...   7,319         NaN         NaN\n",
              "173  NaN        NaN    SOUTHERN REGION  ...  11,937         NaN         NaN\n",
              "174  NaN        NaN   TOTAL SYDNEY CEO  ...  27,077         NaN         NaN\n",
              "\n",
              "[5 rows x 37 columns]"
            ]
          },
          "metadata": {
            "tags": []
          },
          "execution_count": 10
        }
      ]
    },
    {
      "cell_type": "markdown",
      "metadata": {
        "id": "xF6HM872n4r_",
        "colab_type": "text"
      },
      "source": [
        "# Accessing the main DataFrame components"
      ]
    },
    {
      "cell_type": "code",
      "metadata": {
        "id": "Mdr1r8Vjn8MW",
        "colab_type": "code",
        "colab": {}
      },
      "source": [
        "columns = df.columns\n",
        "index = df.index\n",
        "data = df.values"
      ],
      "execution_count": 0,
      "outputs": []
    },
    {
      "cell_type": "code",
      "metadata": {
        "id": "ZswvXsbSoC_Z",
        "colab_type": "code",
        "outputId": "ec88a4b1-d177-4b7b-cf04-20ffd5b09033",
        "colab": {
          "base_uri": "https://localhost:8080/",
          "height": 191
        }
      },
      "source": [
        "columns"
      ],
      "execution_count": 13,
      "outputs": [
        {
          "output_type": "execute_result",
          "data": {
            "text/plain": [
              "Index([' ', 'Unnamed: 1', 'Unnamed: 2', 'Unnamed: 3', 'Unnamed: 4',\n",
              "       'Unnamed: 5', 'Unnamed: 6', 'Unnamed: 7', 'Unnamed: 8', 'Unnamed: 9',\n",
              "       'Unnamed: 10', 'Unnamed: 11', 'Unnamed: 12', 'Unnamed: 13',\n",
              "       'Unnamed: 14', 'Unnamed: 15', 'Unnamed: 16', 'Unnamed: 17',\n",
              "       'Unnamed: 18', 'Unnamed: 19', 'Unnamed: 20', 'Unnamed: 21',\n",
              "       'Unnamed: 22', 'Unnamed: 23', 'Unnamed: 24', 'Unnamed: 25',\n",
              "       'Unnamed: 26', 'Unnamed: 27', 'Unnamed: 28', 'Unnamed: 29',\n",
              "       'Unnamed: 30', 'Unnamed: 31', 'Unnamed: 32', 'Unnamed: 33', '#REF!',\n",
              "       'Unnamed: 35', 'Unnamed: 36'],\n",
              "      dtype='object')"
            ]
          },
          "metadata": {
            "tags": []
          },
          "execution_count": 13
        }
      ]
    },
    {
      "cell_type": "code",
      "metadata": {
        "id": "GLo6QO7BoEmP",
        "colab_type": "code",
        "outputId": "5dd9524b-d085-4b24-b79b-e406dc0b2dad",
        "colab": {
          "base_uri": "https://localhost:8080/",
          "height": 35
        }
      },
      "source": [
        "index"
      ],
      "execution_count": 14,
      "outputs": [
        {
          "output_type": "execute_result",
          "data": {
            "text/plain": [
              "RangeIndex(start=0, stop=175, step=1)"
            ]
          },
          "metadata": {
            "tags": []
          },
          "execution_count": 14
        }
      ]
    },
    {
      "cell_type": "code",
      "metadata": {
        "id": "DOiXYBceoGPn",
        "colab_type": "code",
        "outputId": "47b8ffaa-5518-4658-bf34-fbef1f0fd010",
        "colab": {
          "base_uri": "https://localhost:8080/",
          "height": 173
        }
      },
      "source": [
        "data"
      ],
      "execution_count": 15,
      "outputs": [
        {
          "output_type": "execute_result",
          "data": {
            "text/plain": [
              "array([[nan, nan, nan, ..., nan, nan, nan],\n",
              "       [nan, nan, nan, ..., 'Feb-19', 'Aug-19', 'Feb-20'],\n",
              "       ['TOTALS FOR CEO SYDNEY', nan, nan, ..., '70,128', '69,975',\n",
              "        '70,944'],\n",
              "       ...,\n",
              "       [nan, nan, 'INNER WEST REGION', ..., '7,319', nan, nan],\n",
              "       [nan, nan, 'SOUTHERN REGION', ..., '11,937', nan, nan],\n",
              "       [nan, nan, 'TOTAL SYDNEY CEO', ..., '27,077', nan, nan]],\n",
              "      dtype=object)"
            ]
          },
          "metadata": {
            "tags": []
          },
          "execution_count": 15
        }
      ]
    },
    {
      "cell_type": "markdown",
      "metadata": {
        "id": "3fec-2AUoPmk",
        "colab_type": "text"
      },
      "source": [
        "# 1. Understanding Data Types"
      ]
    },
    {
      "cell_type": "markdown",
      "metadata": {
        "id": "TxadHP_NtXbK",
        "colab_type": "text"
      },
      "source": [
        "#### 1.A Find Shape of Data Frame"
      ]
    },
    {
      "cell_type": "code",
      "metadata": {
        "id": "ZLGMP4NRpqE5",
        "colab_type": "code",
        "outputId": "038b4af8-99e8-48b1-a3d8-2e1c55e78a54",
        "colab": {
          "base_uri": "https://localhost:8080/",
          "height": 35
        }
      },
      "source": [
        "# A:\n",
        "df.shape"
      ],
      "execution_count": 16,
      "outputs": [
        {
          "output_type": "execute_result",
          "data": {
            "text/plain": [
              "(175, 37)"
            ]
          },
          "metadata": {
            "tags": []
          },
          "execution_count": 16
        }
      ]
    },
    {
      "cell_type": "markdown",
      "metadata": {
        "id": "oJX-CGXvuvR7",
        "colab_type": "text"
      },
      "source": [
        "#### 1.B Find Data Tyeps of Data Frame"
      ]
    },
    {
      "cell_type": "code",
      "metadata": {
        "id": "9-jcxa4JoUaF",
        "colab_type": "code",
        "outputId": "5417cc25-7d14-4c46-8e59-e7a816e79a90",
        "colab": {
          "base_uri": "https://localhost:8080/",
          "height": 676
        }
      },
      "source": [
        "# A:\n",
        "df.dtypes"
      ],
      "execution_count": 17,
      "outputs": [
        {
          "output_type": "execute_result",
          "data": {
            "text/plain": [
              "               object\n",
              "Unnamed: 1     object\n",
              "Unnamed: 2     object\n",
              "Unnamed: 3     object\n",
              "Unnamed: 4     object\n",
              "Unnamed: 5     object\n",
              "Unnamed: 6     object\n",
              "Unnamed: 7     object\n",
              "Unnamed: 8     object\n",
              "Unnamed: 9     object\n",
              "Unnamed: 10    object\n",
              "Unnamed: 11    object\n",
              "Unnamed: 12    object\n",
              "Unnamed: 13    object\n",
              "Unnamed: 14    object\n",
              "Unnamed: 15    object\n",
              "Unnamed: 16    object\n",
              "Unnamed: 17    object\n",
              "Unnamed: 18    object\n",
              "Unnamed: 19    object\n",
              "Unnamed: 20    object\n",
              "Unnamed: 21    object\n",
              "Unnamed: 22    object\n",
              "Unnamed: 23    object\n",
              "Unnamed: 24    object\n",
              "Unnamed: 25    object\n",
              "Unnamed: 26    object\n",
              "Unnamed: 27    object\n",
              "Unnamed: 28    object\n",
              "Unnamed: 29    object\n",
              "Unnamed: 30    object\n",
              "Unnamed: 31    object\n",
              "Unnamed: 32    object\n",
              "Unnamed: 33    object\n",
              "#REF!          object\n",
              "Unnamed: 35    object\n",
              "Unnamed: 36    object\n",
              "dtype: object"
            ]
          },
          "metadata": {
            "tags": []
          },
          "execution_count": 17
        }
      ]
    },
    {
      "cell_type": "markdown",
      "metadata": {
        "id": "F84ZM4giu3uX",
        "colab_type": "text"
      },
      "source": [
        "#### 1.C Find Number of Data Types in a Data Frame\n",
        "\n",
        "\n",
        "\n",
        "```\n",
        "Expected Output:\n",
        "int64      5\n",
        "object    13\n",
        "dtype: int64\n",
        "```\n",
        "\n"
      ]
    },
    {
      "cell_type": "markdown",
      "metadata": {
        "id": "1yyNZ1HIvGVp",
        "colab_type": "text"
      },
      "source": [
        "#### 1.D Use Info\n",
        "\n",
        "Use info and explore difference."
      ]
    },
    {
      "cell_type": "code",
      "metadata": {
        "id": "br45XLTVoXsv",
        "colab_type": "code",
        "outputId": "88bec0df-8a86-4e83-989d-b9bc9bd43634",
        "colab": {
          "base_uri": "https://localhost:8080/",
          "height": 260
        }
      },
      "source": [
        "# A:\n",
        "df.info"
      ],
      "execution_count": 18,
      "outputs": [
        {
          "output_type": "execute_result",
          "data": {
            "text/plain": [
              "<bound method DataFrame.info of                             ... Unnamed: 36\n",
              "0                      NaN  ...         NaN\n",
              "1                      NaN  ...      Feb-20\n",
              "2    TOTALS FOR CEO SYDNEY  ...      70,944\n",
              "3             ER – PRIMARY  ...      11,844\n",
              "4                ARNCLIFFE  ...         209\n",
              "..                     ...  ...         ...\n",
              "170                    NaN  ...         NaN\n",
              "171                    NaN  ...         NaN\n",
              "172                    NaN  ...         NaN\n",
              "173                    NaN  ...         NaN\n",
              "174                    NaN  ...         NaN\n",
              "\n",
              "[175 rows x 37 columns]>"
            ]
          },
          "metadata": {
            "tags": []
          },
          "execution_count": 18
        }
      ]
    },
    {
      "cell_type": "markdown",
      "metadata": {
        "id": "aFVlzHmwolwU",
        "colab_type": "text"
      },
      "source": [
        "# 2. Selecting Column in Data Frame"
      ]
    },
    {
      "cell_type": "markdown",
      "metadata": {
        "id": "MHa557TsvdoP",
        "colab_type": "text"
      },
      "source": [
        "#### 2.A Check Values of Job_Title column"
      ]
    },
    {
      "cell_type": "code",
      "metadata": {
        "id": "qAv8nIvnopMN",
        "colab_type": "code",
        "outputId": "625544e8-c742-4b1f-bb7a-e4cda7450376",
        "colab": {
          "base_uri": "https://localhost:8080/",
          "height": 173
        }
      },
      "source": [
        "# A:\n",
        "columns.values"
      ],
      "execution_count": 19,
      "outputs": [
        {
          "output_type": "execute_result",
          "data": {
            "text/plain": [
              "array([' ', 'Unnamed: 1', 'Unnamed: 2', 'Unnamed: 3', 'Unnamed: 4',\n",
              "       'Unnamed: 5', 'Unnamed: 6', 'Unnamed: 7', 'Unnamed: 8',\n",
              "       'Unnamed: 9', 'Unnamed: 10', 'Unnamed: 11', 'Unnamed: 12',\n",
              "       'Unnamed: 13', 'Unnamed: 14', 'Unnamed: 15', 'Unnamed: 16',\n",
              "       'Unnamed: 17', 'Unnamed: 18', 'Unnamed: 19', 'Unnamed: 20',\n",
              "       'Unnamed: 21', 'Unnamed: 22', 'Unnamed: 23', 'Unnamed: 24',\n",
              "       'Unnamed: 25', 'Unnamed: 26', 'Unnamed: 27', 'Unnamed: 28',\n",
              "       'Unnamed: 29', 'Unnamed: 30', 'Unnamed: 31', 'Unnamed: 32',\n",
              "       'Unnamed: 33', '#REF!', 'Unnamed: 35', 'Unnamed: 36'], dtype=object)"
            ]
          },
          "metadata": {
            "tags": []
          },
          "execution_count": 19
        }
      ]
    },
    {
      "cell_type": "markdown",
      "metadata": {
        "id": "ZGrf6tiRvn8F",
        "colab_type": "text"
      },
      "source": [
        "#### 2.B Find How Many Rows Are in Each Job Title\n",
        "\n",
        "\n",
        "\n",
        "```\n",
        "# Expected Output\n",
        "Meat Cutter                        9984\n",
        "Dairy Person                       8590\n",
        "Produce Clerk                      8237\n",
        ".\n",
        ".\n",
        ".\n",
        "```\n",
        "\n"
      ]
    },
    {
      "cell_type": "code",
      "metadata": {
        "id": "J1oPyGUxpYv4",
        "colab_type": "code",
        "colab": {
          "base_uri": "https://localhost:8080/",
          "height": 35
        },
        "outputId": "5d9822a2-c90d-4efb-97af-e3323ff3e029"
      },
      "source": [
        "# A:\n",
        "numberofrows = 0\n",
        "print(numberofrows)\n",
        "\n"
      ],
      "execution_count": 21,
      "outputs": [
        {
          "output_type": "stream",
          "text": [
            "0\n"
          ],
          "name": "stdout"
        }
      ]
    },
    {
      "cell_type": "markdown",
      "metadata": {
        "id": "iGAFnYElwAnu",
        "colab_type": "text"
      },
      "source": [
        "#### 2.C [BONUS] Write A Function to Row Count\n",
        "\n",
        "\n",
        "\n",
        "```\n",
        "def row_count(column_name):\n",
        "    number_of_rows = 0\n",
        "    return number_of_rows\n",
        "```\n",
        "\n"
      ]
    },
    {
      "cell_type": "markdown",
      "metadata": {
        "id": "unrVvLl1wjxg",
        "colab_type": "text"
      },
      "source": [
        "#### 2.D Describe 'Age'\n",
        "\n",
        "Find count,  mean,  std, min, max of column 'age'"
      ]
    },
    {
      "cell_type": "code",
      "metadata": {
        "id": "DGk18B54p1Lm",
        "colab_type": "code",
        "outputId": "c48f1b66-2314-4890-8c2a-1e134204693e",
        "colab": {
          "base_uri": "https://localhost:8080/",
          "height": 166
        }
      },
      "source": [
        "decribe()"
      ],
      "execution_count": 22,
      "outputs": [
        {
          "output_type": "error",
          "ename": "NameError",
          "evalue": "ignored",
          "traceback": [
            "\u001b[0;31m---------------------------------------------------------------------------\u001b[0m",
            "\u001b[0;31mNameError\u001b[0m                                 Traceback (most recent call last)",
            "\u001b[0;32m<ipython-input-22-018278675748>\u001b[0m in \u001b[0;36m<module>\u001b[0;34m()\u001b[0m\n\u001b[0;32m----> 1\u001b[0;31m \u001b[0mdecribe\u001b[0m\u001b[0;34m(\u001b[0m\u001b[0;34m)\u001b[0m\u001b[0;34m\u001b[0m\u001b[0;34m\u001b[0m\u001b[0m\n\u001b[0m",
            "\u001b[0;31mNameError\u001b[0m: name 'decribe' is not defined"
          ]
        }
      ]
    },
    {
      "cell_type": "markdown",
      "metadata": {
        "id": "WStkVqlZw6ZP",
        "colab_type": "text"
      },
      "source": [
        "##### 2.E [BONUS] Describe 'All Numeric Columns of Data Frame\n",
        "\n",
        "Find count, mean, std, min, max of of all columns of dataframe"
      ]
    },
    {
      "cell_type": "code",
      "metadata": {
        "id": "zatP7XTYdsoZ",
        "colab_type": "code",
        "colab": {}
      },
      "source": [
        "# A:"
      ],
      "execution_count": 0,
      "outputs": []
    },
    {
      "cell_type": "markdown",
      "metadata": {
        "id": "5QjPfOf5sE_T",
        "colab_type": "text"
      },
      "source": [
        "# 3. Making The Index Meaningful"
      ]
    },
    {
      "cell_type": "code",
      "metadata": {
        "id": "-cFrJykvdsob",
        "colab_type": "code",
        "colab": {}
      },
      "source": [
        "# A:"
      ],
      "execution_count": 0,
      "outputs": []
    },
    {
      "cell_type": "markdown",
      "metadata": {
        "id": "gvP4e-sMxUa_",
        "colab_type": "text"
      },
      "source": [
        "#### 3.A Find A Specifc Row Using Index"
      ]
    },
    {
      "cell_type": "code",
      "metadata": {
        "id": "vpaI3UKndsof",
        "colab_type": "code",
        "colab": {}
      },
      "source": [
        "# A:"
      ],
      "execution_count": 0,
      "outputs": []
    },
    {
      "cell_type": "markdown",
      "metadata": {
        "id": "PYE7wF1xxtUr",
        "colab_type": "text"
      },
      "source": [
        "#### 3.B Sort Data Frame using Index"
      ]
    },
    {
      "cell_type": "code",
      "metadata": {
        "id": "qjhgMeUmdsoj",
        "colab_type": "code",
        "colab": {}
      },
      "source": [
        "# A:"
      ],
      "execution_count": 0,
      "outputs": []
    },
    {
      "cell_type": "markdown",
      "metadata": {
        "id": "9ElW7kYEyJpc",
        "colab_type": "text"
      },
      "source": [
        "#### 3.C [BONUS] Sort Data Frame using Age"
      ]
    },
    {
      "cell_type": "code",
      "metadata": {
        "id": "dhI0huT13sQc",
        "colab_type": "code",
        "colab": {}
      },
      "source": [
        "# A:"
      ],
      "execution_count": 0,
      "outputs": []
    },
    {
      "cell_type": "markdown",
      "metadata": {
        "id": "VvveQ2cAySpi",
        "colab_type": "text"
      },
      "source": [
        "#### 3.D [BONUS] Using Sample Select Any Row "
      ]
    },
    {
      "cell_type": "code",
      "metadata": {
        "id": "4nVrO5Pwdsom",
        "colab_type": "code",
        "colab": {}
      },
      "source": [
        "# A:"
      ],
      "execution_count": 0,
      "outputs": []
    },
    {
      "cell_type": "markdown",
      "metadata": {
        "id": "5XeLtowlsaYk",
        "colab_type": "text"
      },
      "source": [
        "# 4. Query Data Frame\n",
        "\n",
        "#### 4.A Find Rows Where Job_Title is CEO"
      ]
    },
    {
      "cell_type": "code",
      "metadata": {
        "id": "11b0ZSKcsi3Q",
        "colab_type": "code",
        "colab": {}
      },
      "source": [
        "# A:"
      ],
      "execution_count": 0,
      "outputs": []
    },
    {
      "cell_type": "markdown",
      "metadata": {
        "id": "qhN9k6KOylrt",
        "colab_type": "text"
      },
      "source": [
        "#### 4.B Group By Age"
      ]
    },
    {
      "cell_type": "code",
      "metadata": {
        "id": "Ia56-Vi9dsoo",
        "colab_type": "code",
        "colab": {}
      },
      "source": [
        "# A:"
      ],
      "execution_count": 0,
      "outputs": []
    },
    {
      "cell_type": "markdown",
      "metadata": {
        "id": "L5yQi1wHyuAh",
        "colab_type": "text"
      },
      "source": [
        "# 5. Visualization\n",
        "\n",
        "#### 5.A Plot Histogram of Age "
      ]
    },
    {
      "cell_type": "code",
      "metadata": {
        "id": "YcUyfH1tdsor",
        "colab_type": "code",
        "colab": {}
      },
      "source": [
        "# A:"
      ],
      "execution_count": 0,
      "outputs": []
    },
    {
      "cell_type": "markdown",
      "metadata": {
        "id": "f5ev6X-Uy-CP",
        "colab_type": "text"
      },
      "source": [
        "#### 5.B BoxPlot of Age"
      ]
    },
    {
      "cell_type": "code",
      "metadata": {
        "id": "ukRrrJFmdsow",
        "colab_type": "code",
        "colab": {}
      },
      "source": [
        "# A:"
      ],
      "execution_count": 0,
      "outputs": []
    },
    {
      "cell_type": "markdown",
      "metadata": {
        "id": "VdvlCmOczGs1",
        "colab_type": "text"
      },
      "source": [
        "#### 5.C Scatterplot of age and length_of_service"
      ]
    },
    {
      "cell_type": "code",
      "metadata": {
        "id": "OZBpp-O5dsoz",
        "colab_type": "code",
        "colab": {}
      },
      "source": [
        "# A:"
      ],
      "execution_count": 0,
      "outputs": []
    },
    {
      "cell_type": "markdown",
      "metadata": {
        "id": "dUnd6QD5zXVa",
        "colab_type": "text"
      },
      "source": [
        "#### 5.D Plot Histogram of store_name"
      ]
    },
    {
      "cell_type": "code",
      "metadata": {
        "id": "RxbuXYSwdso1",
        "colab_type": "code",
        "colab": {}
      },
      "source": [
        "# A:"
      ],
      "execution_count": 0,
      "outputs": []
    },
    {
      "cell_type": "markdown",
      "metadata": {
        "id": "O-Mn86xZzjC9",
        "colab_type": "text"
      },
      "source": [
        "#### 5.E Print Statistical Summary of Age"
      ]
    },
    {
      "cell_type": "code",
      "metadata": {
        "id": "gMeCpCUzdso4",
        "colab_type": "code",
        "colab": {}
      },
      "source": [
        "# A:"
      ],
      "execution_count": 0,
      "outputs": []
    },
    {
      "cell_type": "markdown",
      "metadata": {
        "id": "XYm9Jsx2pybf",
        "colab_type": "text"
      },
      "source": [
        "\n",
        "\n",
        "---\n",
        "\n",
        "\n",
        "\n",
        "---\n",
        "\n",
        "\n",
        "\n",
        "> > > > > > > > > © 2019 Institute of Data\n",
        "\n",
        "\n",
        "---\n",
        "\n",
        "\n",
        "\n",
        "---\n",
        "\n",
        "\n",
        "\n"
      ]
    }
  ]
}